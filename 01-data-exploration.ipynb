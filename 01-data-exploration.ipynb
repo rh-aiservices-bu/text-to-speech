{
 "cells": [
  {
   "cell_type": "code",
   "execution_count": 1,
   "id": "c77b2f18-2f60-49f4-9947-0f1ececc37a7",
   "metadata": {},
   "outputs": [],
   "source": [
    "import os\n",
    "import boto3"
   ]
  },
  {
   "cell_type": "code",
   "execution_count": 2,
   "id": "073571ea-069f-4c63-b880-adcd9875a88c",
   "metadata": {},
   "outputs": [],
   "source": [
    "# ==============================================================\n",
    "# Pull AWS access keys from environment variables previously set \n",
    "# in Jupyter Hub\n",
    "# =============================================================\n",
    "key_id          = os.environ.get('AWS_ACCESS_KEY_ID')\n",
    "secret_key      = os.environ.get('AWS_SECRET_ACCESS_KEY')\n",
    "\n",
    "session         = boto3.session.Session(aws_access_key_id=key_id, aws_secret_access_key=secret_key)\n",
    "\n",
    "s3_client       = boto3.client('s3',\n",
    "                  aws_access_key_id=key_id,\n",
    "                  aws_secret_access_key=secret_key)"
   ]
  },
  {
   "cell_type": "code",
   "execution_count": 3,
   "id": "13e5cff6-4d01-48a3-ba26-567d52749898",
   "metadata": {},
   "outputs": [],
   "source": [
    "# ==============================================================\n",
    "# Download jobs file from S3 and place it into a folder\n",
    "#===============================================================\n",
    "bucket_name     = 'rhods-pilot'\n",
    "s3_folder       = 'LJSpeech-1.1'\n",
    "new_file_name   = 'audio_data'\n",
    "local_dest_dir  = os.path.join(os.getcwd(), 'datasets/LJSpeech-1.1')\n",
    "s3 = boto3.resource('s3')"
   ]
  },
  {
   "cell_type": "code",
   "execution_count": null,
   "id": "bf8794f5-cfe3-46e3-895e-3b0485930894",
   "metadata": {},
   "outputs": [],
   "source": [
    "\n",
    "#s3_client.download_file(bucket_name, file_name, new_file_name)\n",
    "\n",
    "def download_s3_folder(bucket_name, s3_folder, local_dir=None):\n",
    "    \"\"\"\n",
    "    Download the contents of a folder directory\n",
    "    Args:\n",
    "        bucket_name: the name of the s3 bucket\n",
    "        s3_folder: the folder path in the s3 bucket\n",
    "        local_dir: a relative or absolute directory path in the local file system\n",
    "    \"\"\"\n",
    "    bucket = s3.Bucket(bucket_name)\n",
    "    for obj in bucket.objects.filter(Prefix=s3_folder):\n",
    "        target = obj.key if local_dir is None \\\n",
    "            else os.path.join(local_dir, os.path.relpath(obj.key, s3_folder))\n",
    "        if not os.path.exists(os.path.dirname(target)):\n",
    "            os.makedirs(os.path.dirname(target))\n",
    "        if obj.key[-1] == '/':\n",
    "            continue\n",
    "        bucket.download_file(obj.key, target)\n",
    "\n",
    "download_s3_folder(bucket_name, s3_folder, local_dest_dir)\n",
    "# DEFINE DATASET CONFIG\n",
    "# Set our new folder as our target dataset and define its path.\n",
    "# You can also use a simple Dict to define the dataset and for a custom formatter."
   ]
  },
  {
   "cell_type": "code",
   "execution_count": null,
   "id": "6fd6909b-2a9f-40f0-9c54-ff0183b38b5b",
   "metadata": {},
   "outputs": [],
   "source": [
    "import IPython.display as ipd\n",
    "ipd.Audio(filename='datasets/LJSpeech-1.1/wavs/LJ001-0001.wav')"
   ]
  },
  {
   "cell_type": "code",
   "execution_count": null,
   "id": "816bf093-ebc2-4e68-b9a1-cbed35cad63d",
   "metadata": {},
   "outputs": [],
   "source": []
  }
 ],
 "metadata": {
  "kernelspec": {
   "display_name": "Python 3 (ipykernel)",
   "language": "python",
   "name": "python3"
  },
  "language_info": {
   "codemirror_mode": {
    "name": "ipython",
    "version": 3
   },
   "file_extension": ".py",
   "mimetype": "text/x-python",
   "name": "python",
   "nbconvert_exporter": "python",
   "pygments_lexer": "ipython3",
   "version": "3.8.8"
  }
 },
 "nbformat": 4,
 "nbformat_minor": 5
}
